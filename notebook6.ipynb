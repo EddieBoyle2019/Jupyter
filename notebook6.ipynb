{
 "cells": [
  {
   "cell_type": "markdown",
   "id": "6843f2f3",
   "metadata": {},
   "source": [
    "# Workflow to produce interactive web map from text source\n",
    "\n",
    "- Use an annotation tool to tag placenames in a text. This example uses Recogito (https://recogito.pelagios.org/) and 'The Letters of Robert Burns', obtained as a plain text file from project Gutenberg (https://www.gutenberg.org/ebooks/9863). \n",
    "\n",
    "- Use a gazetteer to geocode the tagged placenames. Recogito has built-in support for the Geonames gazetter (https://www.geonames.org/) and this has been used in this example.\n",
    "\n",
    "- Export or obtain the tagged placenames as a GeoJSON file, and use the file in this notebook. In this example the file used is called 'rburns1.json'. To use your own file upload it using the file manager in the lefthand menu bar and change the file name in step B below.\n",
    "\n",
    "- This notebook uses ipyleaflet. Use the reference at https://ipyleaflet.readthedocs.io/en/latest/ to modify the example code in step C to change the behaviour and appearance of the map. "
   ]
  },
  {
   "cell_type": "markdown",
   "id": "5162446a",
   "metadata": {},
   "source": [
    "**A. Import required modules**"
   ]
  },
  {
   "cell_type": "code",
   "execution_count": 1,
   "id": "e260aaef",
   "metadata": {},
   "outputs": [],
   "source": [
    "import json\n",
    "from ipyleaflet import Map, GeoJSON, Marker, basemaps, basemap_to_tiles, ScaleControl, LayersControl, LayerGroup\n",
    "from ipywidgets import HTML"
   ]
  },
  {
   "cell_type": "markdown",
   "id": "b45436ef",
   "metadata": {},
   "source": [
    "**B. Read placenames data**"
   ]
  },
  {
   "cell_type": "code",
   "execution_count": 2,
   "id": "295d9d17",
   "metadata": {},
   "outputs": [],
   "source": [
    "with open('rburns1.json', encoding='utf-8') as f:\n",
    "    data = json.load(f)\n",
    "    \n",
    "features = data['features']"
   ]
  },
  {
   "cell_type": "markdown",
   "id": "45288ebf",
   "metadata": {},
   "source": [
    "**C. Generate and configure map**"
   ]
  },
  {
   "cell_type": "markdown",
   "id": "a14e0132",
   "metadata": {},
   "source": [
    "C.1 Basic map"
   ]
  },
  {
   "cell_type": "code",
   "execution_count": 3,
   "id": "13f54f60",
   "metadata": {},
   "outputs": [
    {
     "data": {
      "application/vnd.jupyter.widget-view+json": {
       "model_id": "a13f73ac075e4600b2641e165b05587f",
       "version_major": 2,
       "version_minor": 0
      },
      "text/plain": [
       "Map(center=[55, -3], controls=(ZoomControl(options=['position', 'zoom_in_text', 'zoom_in_title', 'zoom_out_tex…"
      ]
     },
     "metadata": {},
     "output_type": "display_data"
    }
   ],
   "source": [
    "center = (55, -3)\n",
    "\n",
    "map1 = Map(\n",
    "    center=(center),\n",
    "    zoom=6\n",
    "    )\n",
    "  \n",
    "map1"
   ]
  },
  {
   "cell_type": "markdown",
   "id": "1f08843f",
   "metadata": {},
   "source": [
    "C.2 Map with placenames marker icons (click on each marker to see the placename)"
   ]
  },
  {
   "cell_type": "code",
   "execution_count": 4,
   "id": "25cad2af",
   "metadata": {},
   "outputs": [
    {
     "data": {
      "application/vnd.jupyter.widget-view+json": {
       "model_id": "bea6be622eab43b0bb9c99a0e61503cb",
       "version_major": 2,
       "version_minor": 0
      },
      "text/plain": [
       "Map(center=[55, -3], controls=(ZoomControl(options=['position', 'zoom_in_text', 'zoom_in_title', 'zoom_out_tex…"
      ]
     },
     "metadata": {},
     "output_type": "display_data"
    }
   ],
   "source": [
    "center = (55, -3)\n",
    "\n",
    "map2 = Map(\n",
    "    center=(center),\n",
    "    zoom=6\n",
    "    )\n",
    "\n",
    "layer_group = LayerGroup(name='places')\n",
    "    \n",
    "for i in range(len(features)):\n",
    "    location=(features[i]['geometry']['coordinates'][1],features[i]['geometry']['coordinates'][0])\n",
    "    placenames = features[i]['properties']['titles']\n",
    "    html = \"\"\"\n",
    "    <p>\"\"\" + placenames + \"\"\"</p>\n",
    "    \"\"\"\n",
    "    marker = Marker(location=location)\n",
    "    marker.popup = HTML(html)\n",
    "    layer_group.add_layer(marker)\n",
    "    \n",
    "map2.add_layer(layer_group)\n",
    "\n",
    "map2"
   ]
  },
  {
   "cell_type": "markdown",
   "id": "37e02af9",
   "metadata": {},
   "source": [
    "C3. Map with controls (scalebar and basemap/marker display selection)"
   ]
  },
  {
   "cell_type": "code",
   "execution_count": 6,
   "id": "68d99f51",
   "metadata": {},
   "outputs": [
    {
     "data": {
      "application/vnd.jupyter.widget-view+json": {
       "model_id": "fb182ef5e64b4c4981d39885e9d47a31",
       "version_major": 2,
       "version_minor": 0
      },
      "text/plain": [
       "Map(center=[55, -3], controls=(ZoomControl(options=['position', 'zoom_in_text', 'zoom_in_title', 'zoom_out_tex…"
      ]
     },
     "metadata": {},
     "output_type": "display_data"
    }
   ],
   "source": [
    "center = (55, -3)\n",
    "\n",
    "map3 = Map(\n",
    "    center=(center),\n",
    "    zoom=6\n",
    "    )\n",
    "\n",
    "layer_group = LayerGroup(name='places')\n",
    "\n",
    "for i in range(len(features)):\n",
    "    location=(features[i]['geometry']['coordinates'][1],features[i]['geometry']['coordinates'][0])\n",
    "    placenames = features[i]['properties']['titles']\n",
    "    html = \"\"\"\n",
    "    <p>\"\"\" + placenames + \"\"\"</p>\n",
    "    \"\"\"\n",
    "    marker = Marker(location=location)\n",
    "    marker.popup = HTML(html)\n",
    "    layer_group.add_layer(marker)\n",
    "    \n",
    "map3.add_layer(layer_group)\n",
    "\n",
    "topo = basemap_to_tiles(basemaps.OpenTopoMap)\n",
    "topo.base = True\n",
    "topo.name = 'Open Topo Layer'\n",
    "\n",
    "esri = basemap_to_tiles(basemaps.Esri.WorldImagery)\n",
    "esri.base = True\n",
    "esri.name = 'ESRI World layer'\n",
    "\n",
    "map3.add_layer(topo)\n",
    "map3.add_layer(esri)\n",
    "map3.add(LayersControl(position='topright'))\n",
    "map3.add(ScaleControl(position='bottomleft'))\n",
    "\n",
    "map3"
   ]
  },
  {
   "cell_type": "markdown",
   "id": "b149b4f3",
   "metadata": {},
   "source": [
    "**D. Save map as HTML file**"
   ]
  },
  {
   "cell_type": "code",
   "execution_count": null,
   "id": "a9a3415c",
   "metadata": {},
   "outputs": [],
   "source": [
    "map3.save('my_map.html', title='My Map')"
   ]
  }
 ],
 "metadata": {
  "kernelspec": {
   "display_name": "Python 3 (ipykernel)",
   "language": "python",
   "name": "python3"
  },
  "language_info": {
   "codemirror_mode": {
    "name": "ipython",
    "version": 3
   },
   "file_extension": ".py",
   "mimetype": "text/x-python",
   "name": "python",
   "nbconvert_exporter": "python",
   "pygments_lexer": "ipython3",
   "version": "3.8.13"
  }
 },
 "nbformat": 4,
 "nbformat_minor": 5
}
