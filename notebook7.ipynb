{
 "cells": [
  {
   "cell_type": "markdown",
   "id": "6843f2f3",
   "metadata": {},
   "source": [
    "# Workflow to produce interactive web map from manually selected locations\n",
    "\n",
    "- Use a tool like geojson.io (https://geojson.io/) to select a set of locations on an interactive web map. \n",
    "\n",
    "- The output should be a text file dataset containing the selected locations in GeoJSON format.\n",
    "\n",
    "- This example used in this workflow is a simple GeoJSON (https://geojson.org/) dataset that contains the locations of three universities in Scotland. To use your own data upload your GeoJSON file using the file manager in the lefthand menu bar and change the file name in step B.1 below, or paste the data directly into cell B.2. \n",
    "\n",
    "- This notebook uses ipyleaflet to create a web map using the data. Use the reference at https://ipyleaflet.readthedocs.io/en/latest/ to modify the example code in step C to change the behaviour and appearance of the map. "
   ]
  },
  {
   "cell_type": "markdown",
   "id": "5162446a",
   "metadata": {},
   "source": [
    "**A. Import required modules**"
   ]
  },
  {
   "cell_type": "code",
   "execution_count": 1,
   "id": "e260aaef",
   "metadata": {},
   "outputs": [],
   "source": [
    "import json\n",
    "from ipyleaflet import Map, GeoJSON, Marker, basemaps, basemap_to_tiles, ScaleControl, LayersControl, LayerGroup\n",
    "from ipywidgets import HTML"
   ]
  },
  {
   "cell_type": "markdown",
   "id": "b45436ef",
   "metadata": {},
   "source": [
    "**B. Read placenames data**"
   ]
  },
  {
   "cell_type": "markdown",
   "id": "00a1691b",
   "metadata": {},
   "source": [
    "B.1 Read data from uploaded file"
   ]
  },
  {
   "cell_type": "code",
   "execution_count": null,
   "id": "295d9d17",
   "metadata": {},
   "outputs": [],
   "source": [
    "with open('scot_unis1.json', encoding='utf-8') as f:\n",
    "    data = json.load(f)"
   ]
  },
  {
   "cell_type": "code",
   "execution_count": null,
   "id": "3f2249be",
   "metadata": {},
   "outputs": [],
   "source": [
    "features = data['features']"
   ]
  },
  {
   "cell_type": "markdown",
   "id": "20b169da",
   "metadata": {},
   "source": [
    "B.2 Read data directly from GeoJSON text pasted into cell (replace everything in the example after 'data = ')"
   ]
  },
  {
   "cell_type": "code",
   "execution_count": 2,
   "id": "9d5eb4e5",
   "metadata": {},
   "outputs": [],
   "source": [
    "data = {\"type\":\"FeatureCollection\",\"features\":[{\"type\":\"Feature\",\"properties\":{\"name\":\"University of Strathclyde\"},\"geometry\":{\"type\":\"Point\",\"coordinates\":[-4.242138862609863,55.86134463550651]}},{\"type\":\"Feature\",\"properties\":{\"name\":\"Heriot-Watt University\"},\"geometry\":{\"type\":\"Point\",\"coordinates\":[-3.322162628173828,55.91092597210804]}},{\"type\":\"Feature\",\"properties\":{\"name\":\"Robert Gordon University\"},\"geometry\":{\"type\":\"Point\",\"coordinates\":[-2.1395444869995117,57.11825683031915]}}]}"
   ]
  },
  {
   "cell_type": "code",
   "execution_count": 3,
   "id": "cb690053",
   "metadata": {},
   "outputs": [],
   "source": [
    "features = data['features']"
   ]
  },
  {
   "cell_type": "markdown",
   "id": "45288ebf",
   "metadata": {},
   "source": [
    "**C. Generate and configure map**"
   ]
  },
  {
   "cell_type": "markdown",
   "id": "a14e0132",
   "metadata": {},
   "source": [
    "C.1 Basic map"
   ]
  },
  {
   "cell_type": "code",
   "execution_count": 4,
   "id": "13f54f60",
   "metadata": {},
   "outputs": [
    {
     "data": {
      "application/vnd.jupyter.widget-view+json": {
       "model_id": "b44fb2dec5104b7eab2444ad9fa1ecd4",
       "version_major": 2,
       "version_minor": 0
      },
      "text/plain": [
       "Map(center=[56, -3], controls=(ZoomControl(options=['position', 'zoom_in_text', 'zoom_in_title', 'zoom_out_tex…"
      ]
     },
     "metadata": {},
     "output_type": "display_data"
    }
   ],
   "source": [
    "center = (56, -3)\n",
    "\n",
    "map1 = Map(\n",
    "    center=(center),\n",
    "    zoom=6\n",
    "    )\n",
    "  \n",
    "map1"
   ]
  },
  {
   "cell_type": "markdown",
   "id": "1f08843f",
   "metadata": {},
   "source": [
    "C.2 Map with placenames marker icons (click on each marker to see the placename)"
   ]
  },
  {
   "cell_type": "code",
   "execution_count": 5,
   "id": "25cad2af",
   "metadata": {},
   "outputs": [
    {
     "data": {
      "application/vnd.jupyter.widget-view+json": {
       "model_id": "a243b9dbf3be4ba6953667cf1797a401",
       "version_major": 2,
       "version_minor": 0
      },
      "text/plain": [
       "Map(center=[56, -3], controls=(ZoomControl(options=['position', 'zoom_in_text', 'zoom_in_title', 'zoom_out_tex…"
      ]
     },
     "metadata": {},
     "output_type": "display_data"
    }
   ],
   "source": [
    "center = (56, -3)\n",
    "\n",
    "map2 = Map(\n",
    "    center=(center),\n",
    "    zoom=6\n",
    "    )\n",
    "\n",
    "layer_group = LayerGroup(name='places')\n",
    "    \n",
    "for i in range(len(features)):\n",
    "    location=(features[i]['geometry']['coordinates'][1],features[i]['geometry']['coordinates'][0])\n",
    "    placenames = features[i]['properties']['name']\n",
    "    html = \"\"\"\n",
    "    <p>\"\"\" + placenames + \"\"\"</p>\n",
    "    \"\"\"\n",
    "    marker = Marker(location=location, draggable=False)\n",
    "    marker.popup = HTML(html)\n",
    "    layer_group.add_layer(marker)\n",
    "    \n",
    "map2.add_layer(layer_group)\n",
    "\n",
    "map2"
   ]
  },
  {
   "cell_type": "markdown",
   "id": "545edf6a",
   "metadata": {},
   "source": [
    "C3. Map with controls (scalebar and basemap/marker display selection)"
   ]
  },
  {
   "cell_type": "code",
   "execution_count": 6,
   "id": "cb60cfcc",
   "metadata": {},
   "outputs": [
    {
     "data": {
      "application/vnd.jupyter.widget-view+json": {
       "model_id": "0ba616e0374b4cab857ce05e271bde12",
       "version_major": 2,
       "version_minor": 0
      },
      "text/plain": [
       "Map(center=[56, -3], controls=(ZoomControl(options=['position', 'zoom_in_text', 'zoom_in_title', 'zoom_out_tex…"
      ]
     },
     "metadata": {},
     "output_type": "display_data"
    }
   ],
   "source": [
    "center = (56, -3)\n",
    "\n",
    "map3 = Map(\n",
    "    center=(center),\n",
    "    zoom=6\n",
    "    )\n",
    "\n",
    "layer_group = LayerGroup(name='places')\n",
    "\n",
    "for i in range(len(features)):\n",
    "    location=(features[i]['geometry']['coordinates'][1],features[i]['geometry']['coordinates'][0])\n",
    "    placenames = features[i]['properties']['name']\n",
    "    html = \"\"\"\n",
    "    <p>\"\"\" + placenames + \"\"\"</p>\n",
    "    \"\"\"\n",
    "    marker = Marker(location=location, draggable=False)\n",
    "    marker.popup = HTML(html)\n",
    "    layer_group.add_layer(marker)\n",
    "    \n",
    "map3.add_layer(layer_group)\n",
    "\n",
    "topo = basemap_to_tiles(basemaps.OpenTopoMap)\n",
    "topo.base = True\n",
    "topo.name = 'Open Topo Layer'\n",
    "\n",
    "esri = basemap_to_tiles(basemaps.Esri.WorldImagery)\n",
    "esri.base = True\n",
    "esri.name = 'ESRI World layer'\n",
    "\n",
    "map3.add_layer(topo)\n",
    "map3.add_layer(esri)\n",
    "map3.add_control(LayersControl(position='topright'))\n",
    "map3.add_control(ScaleControl(position='bottomleft'))\n",
    "\n",
    "map3"
   ]
  },
  {
   "cell_type": "markdown",
   "id": "b149b4f3",
   "metadata": {},
   "source": [
    "**D. Save map as HTML file**"
   ]
  },
  {
   "cell_type": "code",
   "execution_count": null,
   "id": "a9a3415c",
   "metadata": {},
   "outputs": [],
   "source": [
    "map3.save('my_map.html', title='My Map')"
   ]
  }
 ],
 "metadata": {
  "kernelspec": {
   "display_name": "Python 3 (ipykernel)",
   "language": "python",
   "name": "python3"
  },
  "language_info": {
   "codemirror_mode": {
    "name": "ipython",
    "version": 3
   },
   "file_extension": ".py",
   "mimetype": "text/x-python",
   "name": "python",
   "nbconvert_exporter": "python",
   "pygments_lexer": "ipython3",
   "version": "3.8.13"
  }
 },
 "nbformat": 4,
 "nbformat_minor": 5
}
