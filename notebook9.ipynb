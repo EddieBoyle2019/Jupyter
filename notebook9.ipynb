{
 "cells": [
  {
   "cell_type": "markdown",
   "id": "6843f2f3",
   "metadata": {},
   "source": [
    "# Workflow to produce interactive web map from manually selected locations\n",
    "\n",
    "- Use a tool like geojson.io (https://geojson.io/) to select a set of locations on an interactive web map. \n",
    "\n",
    "- The output should be a text file dataset containing the selected locations in GeoJSON format.\n",
    "\n",
    "- The example used in this workflow is a simple GeoJSON (https://geojson.org/) dataset that contains the locations of three universities in Scotland. To use your own data upload your GeoJSON file using the file manager in the lefthand menu bar and change the file name in step B.1 below, or paste the data directly into cell B.2. \n",
    "\n",
    "- This notebook uses ipyleaflet to create a web map using the data. Use the reference at https://ipyleaflet.readthedocs.io/en/latest/ to modify the example code in steps C.1 to C.4 to change the behaviour and appearance of the map. Step C.4 uses historical mapping data from the National Library of Scotland (https://maps.nls.uk/guides/georeferencing/). "
   ]
  },
  {
   "cell_type": "markdown",
   "id": "5162446a",
   "metadata": {},
   "source": [
    "**A. Import required modules**"
   ]
  },
  {
   "cell_type": "code",
   "execution_count": null,
   "id": "e260aaef",
   "metadata": {},
   "outputs": [],
   "source": [
    "import json\n",
    "from ipyleaflet import Map, GeoJSON, Marker, basemaps, basemap_to_tiles, ScaleControl, LayersControl, WidgetControl, LayerGroup, TileLayer\n",
    "from ipywidgets import HTML, widgets"
   ]
  },
  {
   "cell_type": "markdown",
   "id": "b45436ef",
   "metadata": {},
   "source": [
    "**B. Read placenames data**"
   ]
  },
  {
   "cell_type": "markdown",
   "id": "37918504",
   "metadata": {},
   "source": [
    "B.1 Read data from uploaded file"
   ]
  },
  {
   "cell_type": "code",
   "execution_count": null,
   "id": "295d9d17",
   "metadata": {},
   "outputs": [],
   "source": [
    "with open('scot_unis1.json', encoding='utf-8') as f:\n",
    "    data = json.load(f)"
   ]
  },
  {
   "cell_type": "code",
   "execution_count": null,
   "id": "757a3ff9",
   "metadata": {},
   "outputs": [],
   "source": [
    "features = data['features']"
   ]
  },
  {
   "cell_type": "markdown",
   "id": "c76f5bc8",
   "metadata": {},
   "source": [
    "B.2 Read data directly from GeoJSON text pasted into cell (replace everything in the example after `data = `)"
   ]
  },
  {
   "cell_type": "code",
   "execution_count": null,
   "id": "73aeb852",
   "metadata": {},
   "outputs": [],
   "source": [
    "data = {\"type\":\"FeatureCollection\",\"features\":[{\"type\":\"Feature\",\"properties\":{\"name\":\"University of Strathclyde\"},\"geometry\":{\"type\":\"Point\",\"coordinates\":[-4.242138862609863,55.86134463550651]}},{\"type\":\"Feature\",\"properties\":{\"name\":\"Heriot-Watt University\"},\"geometry\":{\"type\":\"Point\",\"coordinates\":[-3.322162628173828,55.91092597210804]}},{\"type\":\"Feature\",\"properties\":{\"name\":\"Robert Gordon University\"},\"geometry\":{\"type\":\"Point\",\"coordinates\":[-2.1395444869995117,57.11825683031915]}}]}"
   ]
  },
  {
   "cell_type": "code",
   "execution_count": null,
   "id": "0d059383",
   "metadata": {},
   "outputs": [],
   "source": [
    "features = data['features']"
   ]
  },
  {
   "cell_type": "markdown",
   "id": "45288ebf",
   "metadata": {},
   "source": [
    "**C. Generate and configure map**"
   ]
  },
  {
   "cell_type": "markdown",
   "id": "a14e0132",
   "metadata": {},
   "source": [
    "C.1 Basic map (uses OpenStreetMap)."
   ]
  },
  {
   "cell_type": "code",
   "execution_count": null,
   "id": "13f54f60",
   "metadata": {},
   "outputs": [],
   "source": [
    "center = (56, -3)\n",
    "\n",
    "map1 = Map(\n",
    "    center=(center),\n",
    "    zoom=6\n",
    "    )\n",
    "\n",
    "map1.add_control(ScaleControl(position='bottomleft'))\n",
    "\n",
    "map1"
   ]
  },
  {
   "cell_type": "markdown",
   "id": "1f08843f",
   "metadata": {},
   "source": [
    "C.2 Map with marker icons using the supplied placenames data (click on each marker to see the placename)."
   ]
  },
  {
   "cell_type": "code",
   "execution_count": null,
   "id": "25cad2af",
   "metadata": {},
   "outputs": [],
   "source": [
    "center = (56, -3)\n",
    "\n",
    "map2 = Map(\n",
    "    center=(center),\n",
    "    zoom=6\n",
    "    )\n",
    "\n",
    "layer_group = LayerGroup(name='places')\n",
    "    \n",
    "for i in range(len(features)):\n",
    "    location=(features[i]['geometry']['coordinates'][1],features[i]['geometry']['coordinates'][0])\n",
    "    placenames = features[i]['properties']['name']\n",
    "    html = \"\"\"\n",
    "    <p>\"\"\" + placenames + \"\"\"</p>\n",
    "    \"\"\"\n",
    "    marker = Marker(location=location, draggable=False)\n",
    "    marker.popup = HTML(html)\n",
    "    layer_group.add_layer(marker)\n",
    "    \n",
    "map2.add_layer(layer_group)\n",
    "map2.add_control(ScaleControl(position='bottomleft'))\n",
    "\n",
    "map2"
   ]
  },
  {
   "cell_type": "markdown",
   "id": "545edf6a",
   "metadata": {},
   "source": [
    "C.3 Map with basemap/marker display selection control. This example adds OpenStreetMap topo and ESRI World maps, see https://ipyleaflet.readthedocs.io/en/latest/map_and_basemaps/basemaps.html for more map options)."
   ]
  },
  {
   "cell_type": "code",
   "execution_count": null,
   "id": "cb60cfcc",
   "metadata": {},
   "outputs": [],
   "source": [
    "center = (56, -3)\n",
    "\n",
    "map3 = Map(\n",
    "    center=(center),\n",
    "    zoom=6\n",
    "    )\n",
    "\n",
    "layer_group = LayerGroup(name='places')\n",
    "\n",
    "for i in range(len(features)):\n",
    "    location=(features[i]['geometry']['coordinates'][1],features[i]['geometry']['coordinates'][0])\n",
    "    placenames = features[i]['properties']['name']\n",
    "    html = \"\"\"\n",
    "    <p>\"\"\" + placenames + \"\"\"</p>\n",
    "    \"\"\"\n",
    "    marker = Marker(location=location, draggable=False)\n",
    "    marker.popup = HTML(html)\n",
    "    layer_group.add_layer(marker)\n",
    "    \n",
    "map3.add_layer(layer_group)\n",
    "\n",
    "topo = basemap_to_tiles(basemaps.OpenTopoMap)\n",
    "topo.base = True\n",
    "topo.name = 'Open Topo Layer'\n",
    "\n",
    "esri = basemap_to_tiles(basemaps.Esri.WorldImagery)\n",
    "esri.base = True\n",
    "esri.name = 'ESRI World layer'\n",
    "\n",
    "map3.add_layer(topo)\n",
    "map3.add_layer(esri)\n",
    "map3.add_control(LayersControl(position='topright'))\n",
    "map3.add_control(ScaleControl(position='bottomleft'))\n",
    "\n",
    "map3"
   ]
  },
  {
   "cell_type": "markdown",
   "id": "c8026ae2",
   "metadata": {},
   "source": [
    "C.4 Map with a NLS historical mapping layer. This example uses Ordnance Survey Great Britain One Inch 1885-1900 mapping. For other mapping layers available from the NLS see https://maps.nls.uk/guides/georeferencing/layers-list/. To use one of these layers find the URL for the layer using the steps at https://maps.nls.uk/guides/georeferencing/layers-urls/ and insert it into the line `url1 = \"\"` below. A slider control to alter the opacity of the layer is also added."
   ]
  },
  {
   "cell_type": "code",
   "execution_count": null,
   "id": "5a50c204",
   "metadata": {},
   "outputs": [],
   "source": [
    "center = (55, -3)\n",
    "\n",
    "map4 = Map(\n",
    "    center=(center),\n",
    "    zoom=6\n",
    "    )\n",
    "\n",
    "layer_group = LayerGroup(name='places')\n",
    "\n",
    "for i in range(len(features)):\n",
    "    location=(features[i]['geometry']['coordinates'][1],features[i]['geometry']['coordinates'][0])\n",
    "    placenames = features[i]['properties']['name']\n",
    "    html = \"\"\"\n",
    "    <p>\"\"\" + placenames + \"\"\"</p>\n",
    "    \"\"\"\n",
    "    marker = Marker(location=location, draggable=False)\n",
    "    marker.popup = HTML(html)\n",
    "    layer_group.add_layer(marker)\n",
    "\n",
    "map4.add_layer(layer_group)\n",
    "\n",
    "url1 = \"https://mapseries-tilesets.s3.amazonaws.com/1inch_2nd_ed/{z}/{x}/{y}.png\"\n",
    "nls1 = TileLayer(url=url1, opacity=1)\n",
    "\n",
    "map4.add_layer(nls1)\n",
    "map4.add_control(ScaleControl(position='bottomleft'))\n",
    "\n",
    "slider = widgets.FloatSlider(min=0, max=1, value=1, readout=False, layout=widgets.Layout(width='15em'))\n",
    "widgets.jslink((slider, 'value'),(nls1, 'opacity'))\n",
    "map4.add_control(WidgetControl(widget=slider, position='topright'))\n",
    "\n",
    "map4"
   ]
  },
  {
   "cell_type": "markdown",
   "id": "b149b4f3",
   "metadata": {},
   "source": [
    "**D. Save map as HTML file**"
   ]
  },
  {
   "cell_type": "code",
   "execution_count": null,
   "id": "a9a3415c",
   "metadata": {},
   "outputs": [],
   "source": [
    "map4.save('my_map.html', title='My Map')"
   ]
  }
 ],
 "metadata": {
  "kernelspec": {
   "display_name": "Python 3 (ipykernel)",
   "language": "python",
   "name": "python3"
  },
  "language_info": {
   "codemirror_mode": {
    "name": "ipython",
    "version": 3
   },
   "file_extension": ".py",
   "mimetype": "text/x-python",
   "name": "python",
   "nbconvert_exporter": "python",
   "pygments_lexer": "ipython3",
   "version": "3.8.13"
  }
 },
 "nbformat": 4,
 "nbformat_minor": 5
}
