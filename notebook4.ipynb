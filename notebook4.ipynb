{
 "cells": [
  {
   "cell_type": "markdown",
   "id": "6843f2f3",
   "metadata": {},
   "source": [
    "**Workflow to produce interactive web map from text source**\n",
    "\n",
    "1. Use an annotation tool to tag placenames in a text. This example uses Recogito (https://recogito.pelagios.org/) and 'The Letters of Robert Burrns', obtained as a plain text file from project Gutenberg (https://www.gutenberg.org/ebooks/9863). \n",
    "\n",
    "2. Use a gazetter to geocode the tagged placenames. Recogito has built-in support for the Geonames gazetter and this has been used in this example.\n",
    "\n",
    "3. Export or obtain the tagged placenames as a GeoJSON file, and use the file in this notebook. In this example the file is called 'rburns1.json'. "
   ]
  },
  {
   "cell_type": "markdown",
   "id": "5c14faf2",
   "metadata": {},
   "source": [
    "This notebook uses ipyleaflet. Use the reference at https://ipyleaflet.readthedocs.io/en/latest/ to modify the example code or insert new code to change the behaviour and appearance of the map. "
   ]
  },
  {
   "cell_type": "markdown",
   "id": "5162446a",
   "metadata": {},
   "source": [
    "Import required modules"
   ]
  },
  {
   "cell_type": "code",
   "execution_count": 1,
   "id": "e260aaef",
   "metadata": {},
   "outputs": [],
   "source": [
    "import json\n",
    "from ipyleaflet import Map, GeoJSON, Marker, basemaps, basemap_to_tiles"
   ]
  },
  {
   "cell_type": "markdown",
   "id": "b45436ef",
   "metadata": {},
   "source": [
    "Read placenames data"
   ]
  },
  {
   "cell_type": "code",
   "execution_count": 2,
   "id": "295d9d17",
   "metadata": {},
   "outputs": [],
   "source": [
    "with open('rburns1.json', encoding='utf-8') as f:\n",
    "    data = json.load(f)"
   ]
  },
  {
   "cell_type": "markdown",
   "id": "45288ebf",
   "metadata": {},
   "source": [
    "Generate map"
   ]
  },
  {
   "cell_type": "code",
   "execution_count": 3,
   "id": "c73fba7f",
   "metadata": {},
   "outputs": [
    {
     "data": {
      "application/vnd.jupyter.widget-view+json": {
       "model_id": "fe8739e25ec84413a967ac457dcdcab7",
       "version_major": 2,
       "version_minor": 0
      },
      "text/plain": [
       "Map(center=[55, -3], controls=(ZoomControl(options=['position', 'zoom_in_text', 'zoom_in_title', 'zoom_out_tex…"
      ]
     },
     "metadata": {},
     "output_type": "display_data"
    }
   ],
   "source": [
    "center = (55, -3)\n",
    "\n",
    "m = Map(\n",
    "    basemap=basemap_to_tiles(basemaps.OpenStreetMap.Mapnik),\n",
    "    center=(center),\n",
    "    zoom=6\n",
    "    )\n",
    "\n",
    "geo_json = GeoJSON(\n",
    "    data=data\n",
    ")\n",
    "\n",
    "m.add_layer(geo_json)\n",
    "\n",
    "m"
   ]
  },
  {
   "cell_type": "markdown",
   "id": "b149b4f3",
   "metadata": {},
   "source": [
    "Save map as HTML file"
   ]
  },
  {
   "cell_type": "code",
   "execution_count": 4,
   "id": "a9a3415c",
   "metadata": {},
   "outputs": [],
   "source": [
    "m.save('my_map.html', title='My Map')"
   ]
  }
 ],
 "metadata": {
  "kernelspec": {
   "display_name": "Python 3 (ipykernel)",
   "language": "python",
   "name": "python3"
  },
  "language_info": {
   "codemirror_mode": {
    "name": "ipython",
    "version": 3
   },
   "file_extension": ".py",
   "mimetype": "text/x-python",
   "name": "python",
   "nbconvert_exporter": "python",
   "pygments_lexer": "ipython3",
   "version": "3.8.13"
  }
 },
 "nbformat": 4,
 "nbformat_minor": 5
}
